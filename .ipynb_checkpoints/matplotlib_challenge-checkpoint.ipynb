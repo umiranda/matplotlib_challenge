{
 "cells": [
  {
   "cell_type": "markdown",
   "metadata": {},
   "source": [
    "## Observations and Insights "
   ]
  },
  {
   "cell_type": "markdown",
   "metadata": {},
   "source": []
  },
  {
   "cell_type": "code",
   "execution_count": 3,
   "metadata": {},
   "outputs": [
    {
     "data": {
      "text/html": [
       "<div>\n",
       "<style scoped>\n",
       "    .dataframe tbody tr th:only-of-type {\n",
       "        vertical-align: middle;\n",
       "    }\n",
       "\n",
       "    .dataframe tbody tr th {\n",
       "        vertical-align: top;\n",
       "    }\n",
       "\n",
       "    .dataframe thead th {\n",
       "        text-align: right;\n",
       "    }\n",
       "</style>\n",
       "<table border=\"1\" class=\"dataframe\">\n",
       "  <thead>\n",
       "    <tr style=\"text-align: right;\">\n",
       "      <th></th>\n",
       "      <th>Mouse ID</th>\n",
       "      <th>Drug Regimen</th>\n",
       "      <th>Sex</th>\n",
       "      <th>Age_months</th>\n",
       "      <th>Weight (g)</th>\n",
       "      <th>Timepoint</th>\n",
       "      <th>Tumor Volume (mm3)</th>\n",
       "      <th>Metastatic Sites</th>\n",
       "    </tr>\n",
       "  </thead>\n",
       "  <tbody>\n",
       "    <tr>\n",
       "      <th>0</th>\n",
       "      <td>k403</td>\n",
       "      <td>Ramicane</td>\n",
       "      <td>Male</td>\n",
       "      <td>21</td>\n",
       "      <td>16</td>\n",
       "      <td>0</td>\n",
       "      <td>45.000000</td>\n",
       "      <td>0</td>\n",
       "    </tr>\n",
       "    <tr>\n",
       "      <th>1</th>\n",
       "      <td>k403</td>\n",
       "      <td>Ramicane</td>\n",
       "      <td>Male</td>\n",
       "      <td>21</td>\n",
       "      <td>16</td>\n",
       "      <td>5</td>\n",
       "      <td>38.825898</td>\n",
       "      <td>0</td>\n",
       "    </tr>\n",
       "    <tr>\n",
       "      <th>2</th>\n",
       "      <td>k403</td>\n",
       "      <td>Ramicane</td>\n",
       "      <td>Male</td>\n",
       "      <td>21</td>\n",
       "      <td>16</td>\n",
       "      <td>10</td>\n",
       "      <td>35.014271</td>\n",
       "      <td>1</td>\n",
       "    </tr>\n",
       "    <tr>\n",
       "      <th>3</th>\n",
       "      <td>k403</td>\n",
       "      <td>Ramicane</td>\n",
       "      <td>Male</td>\n",
       "      <td>21</td>\n",
       "      <td>16</td>\n",
       "      <td>15</td>\n",
       "      <td>34.223992</td>\n",
       "      <td>1</td>\n",
       "    </tr>\n",
       "    <tr>\n",
       "      <th>4</th>\n",
       "      <td>k403</td>\n",
       "      <td>Ramicane</td>\n",
       "      <td>Male</td>\n",
       "      <td>21</td>\n",
       "      <td>16</td>\n",
       "      <td>20</td>\n",
       "      <td>32.997729</td>\n",
       "      <td>1</td>\n",
       "    </tr>\n",
       "  </tbody>\n",
       "</table>\n",
       "</div>"
      ],
      "text/plain": [
       "  Mouse ID Drug Regimen   Sex  Age_months  Weight (g)  Timepoint  \\\n",
       "0     k403     Ramicane  Male          21          16          0   \n",
       "1     k403     Ramicane  Male          21          16          5   \n",
       "2     k403     Ramicane  Male          21          16         10   \n",
       "3     k403     Ramicane  Male          21          16         15   \n",
       "4     k403     Ramicane  Male          21          16         20   \n",
       "\n",
       "   Tumor Volume (mm3)  Metastatic Sites  \n",
       "0           45.000000                 0  \n",
       "1           38.825898                 0  \n",
       "2           35.014271                 1  \n",
       "3           34.223992                 1  \n",
       "4           32.997729                 1  "
      ]
     },
     "execution_count": 3,
     "metadata": {},
     "output_type": "execute_result"
    }
   ],
   "source": [
    "# Import Dependencies and Setup\n",
    "import matplotlib.pyplot as plt\n",
    "import pandas as pd\n",
    "import scipy.stats as st\n",
    "from scipy.stats import linregress\n",
    "import sklearn.datasets as dta\n",
    "import numpy as np\n",
    "import os\n",
    "\n",
    "# Read the mouse data and the study results\n",
    "mouse_metadata_path = \"Resources/Unit 5 - Matplotlib_Homework_Instructions_Pymaceuticals_data_Mouse_metadata.csv\"\n",
    "study_results_path = \"Resources/Unit 5 - Matplotlib_Homework_Instructions_Pymaceuticals_data_Study_results.csv\"\n",
    "\n",
    "mouse_metadata = pd.read_csv(mouse_metadata_path)\n",
    "study_results = pd.read_csv(study_results_path)\n",
    "\n",
    "# Combining the data into a single dataset\n",
    "mouse_metadata_df = pd.DataFrame(mouse_metadata)\n",
    "study_results_df = pd.DataFrame(study_results)\n",
    "comb_mouse_df = mouse_metadata_df.merge(study_results_df, on = \"Mouse ID\")\n",
    "\n",
    "# Displaying the data table for preview\n",
    "comb_mouse_df.head()"
   ]
  },
  {
   "cell_type": "code",
   "execution_count": 4,
   "metadata": {},
   "outputs": [
    {
     "data": {
      "text/plain": [
       "Mouse ID        249\n",
       "Drug Regimen    249\n",
       "Sex             249\n",
       "Age_months      249\n",
       "Weight (g)      249\n",
       "dtype: int64"
      ]
     },
     "execution_count": 4,
     "metadata": {},
     "output_type": "execute_result"
    }
   ],
   "source": [
    "# Checking the number of mice.\n",
    "mouse_metadata_df.count()"
   ]
  },
  {
   "cell_type": "code",
   "execution_count": 5,
   "metadata": {},
   "outputs": [
    {
     "data": {
      "text/html": [
       "<div>\n",
       "<style scoped>\n",
       "    .dataframe tbody tr th:only-of-type {\n",
       "        vertical-align: middle;\n",
       "    }\n",
       "\n",
       "    .dataframe tbody tr th {\n",
       "        vertical-align: top;\n",
       "    }\n",
       "\n",
       "    .dataframe thead th {\n",
       "        text-align: right;\n",
       "    }\n",
       "</style>\n",
       "<table border=\"1\" class=\"dataframe\">\n",
       "  <thead>\n",
       "    <tr style=\"text-align: right;\">\n",
       "      <th></th>\n",
       "      <th>Mouse ID</th>\n",
       "      <th>Drug Regimen</th>\n",
       "      <th>Sex</th>\n",
       "      <th>Age_months</th>\n",
       "      <th>Weight (g)</th>\n",
       "      <th>Timepoint</th>\n",
       "      <th>Tumor_volume</th>\n",
       "      <th>Metastatic Sites</th>\n",
       "    </tr>\n",
       "  </thead>\n",
       "  <tbody>\n",
       "    <tr>\n",
       "      <th>0</th>\n",
       "      <td>k403</td>\n",
       "      <td>Ramicane</td>\n",
       "      <td>Male</td>\n",
       "      <td>21</td>\n",
       "      <td>16</td>\n",
       "      <td>0</td>\n",
       "      <td>45.000000</td>\n",
       "      <td>0</td>\n",
       "    </tr>\n",
       "    <tr>\n",
       "      <th>1</th>\n",
       "      <td>k403</td>\n",
       "      <td>Ramicane</td>\n",
       "      <td>Male</td>\n",
       "      <td>21</td>\n",
       "      <td>16</td>\n",
       "      <td>5</td>\n",
       "      <td>38.825898</td>\n",
       "      <td>0</td>\n",
       "    </tr>\n",
       "    <tr>\n",
       "      <th>2</th>\n",
       "      <td>k403</td>\n",
       "      <td>Ramicane</td>\n",
       "      <td>Male</td>\n",
       "      <td>21</td>\n",
       "      <td>16</td>\n",
       "      <td>10</td>\n",
       "      <td>35.014271</td>\n",
       "      <td>1</td>\n",
       "    </tr>\n",
       "    <tr>\n",
       "      <th>3</th>\n",
       "      <td>k403</td>\n",
       "      <td>Ramicane</td>\n",
       "      <td>Male</td>\n",
       "      <td>21</td>\n",
       "      <td>16</td>\n",
       "      <td>15</td>\n",
       "      <td>34.223992</td>\n",
       "      <td>1</td>\n",
       "    </tr>\n",
       "    <tr>\n",
       "      <th>4</th>\n",
       "      <td>k403</td>\n",
       "      <td>Ramicane</td>\n",
       "      <td>Male</td>\n",
       "      <td>21</td>\n",
       "      <td>16</td>\n",
       "      <td>20</td>\n",
       "      <td>32.997729</td>\n",
       "      <td>1</td>\n",
       "    </tr>\n",
       "    <tr>\n",
       "      <th>...</th>\n",
       "      <td>...</td>\n",
       "      <td>...</td>\n",
       "      <td>...</td>\n",
       "      <td>...</td>\n",
       "      <td>...</td>\n",
       "      <td>...</td>\n",
       "      <td>...</td>\n",
       "      <td>...</td>\n",
       "    </tr>\n",
       "    <tr>\n",
       "      <th>1888</th>\n",
       "      <td>z969</td>\n",
       "      <td>Naftisol</td>\n",
       "      <td>Male</td>\n",
       "      <td>9</td>\n",
       "      <td>30</td>\n",
       "      <td>25</td>\n",
       "      <td>63.145652</td>\n",
       "      <td>2</td>\n",
       "    </tr>\n",
       "    <tr>\n",
       "      <th>1889</th>\n",
       "      <td>z969</td>\n",
       "      <td>Naftisol</td>\n",
       "      <td>Male</td>\n",
       "      <td>9</td>\n",
       "      <td>30</td>\n",
       "      <td>30</td>\n",
       "      <td>65.841013</td>\n",
       "      <td>3</td>\n",
       "    </tr>\n",
       "    <tr>\n",
       "      <th>1890</th>\n",
       "      <td>z969</td>\n",
       "      <td>Naftisol</td>\n",
       "      <td>Male</td>\n",
       "      <td>9</td>\n",
       "      <td>30</td>\n",
       "      <td>35</td>\n",
       "      <td>69.176246</td>\n",
       "      <td>4</td>\n",
       "    </tr>\n",
       "    <tr>\n",
       "      <th>1891</th>\n",
       "      <td>z969</td>\n",
       "      <td>Naftisol</td>\n",
       "      <td>Male</td>\n",
       "      <td>9</td>\n",
       "      <td>30</td>\n",
       "      <td>40</td>\n",
       "      <td>70.314904</td>\n",
       "      <td>4</td>\n",
       "    </tr>\n",
       "    <tr>\n",
       "      <th>1892</th>\n",
       "      <td>z969</td>\n",
       "      <td>Naftisol</td>\n",
       "      <td>Male</td>\n",
       "      <td>9</td>\n",
       "      <td>30</td>\n",
       "      <td>45</td>\n",
       "      <td>73.867845</td>\n",
       "      <td>4</td>\n",
       "    </tr>\n",
       "  </tbody>\n",
       "</table>\n",
       "<p>1888 rows × 8 columns</p>\n",
       "</div>"
      ],
      "text/plain": [
       "     Mouse ID Drug Regimen   Sex  Age_months  Weight (g)  Timepoint  \\\n",
       "0        k403     Ramicane  Male          21          16          0   \n",
       "1        k403     Ramicane  Male          21          16          5   \n",
       "2        k403     Ramicane  Male          21          16         10   \n",
       "3        k403     Ramicane  Male          21          16         15   \n",
       "4        k403     Ramicane  Male          21          16         20   \n",
       "...       ...          ...   ...         ...         ...        ...   \n",
       "1888     z969     Naftisol  Male           9          30         25   \n",
       "1889     z969     Naftisol  Male           9          30         30   \n",
       "1890     z969     Naftisol  Male           9          30         35   \n",
       "1891     z969     Naftisol  Male           9          30         40   \n",
       "1892     z969     Naftisol  Male           9          30         45   \n",
       "\n",
       "      Tumor_volume  Metastatic Sites  \n",
       "0        45.000000                 0  \n",
       "1        38.825898                 0  \n",
       "2        35.014271                 1  \n",
       "3        34.223992                 1  \n",
       "4        32.997729                 1  \n",
       "...            ...               ...  \n",
       "1888     63.145652                 2  \n",
       "1889     65.841013                 3  \n",
       "1890     69.176246                 4  \n",
       "1891     70.314904                 4  \n",
       "1892     73.867845                 4  \n",
       "\n",
       "[1888 rows x 8 columns]"
      ]
     },
     "execution_count": 5,
     "metadata": {},
     "output_type": "execute_result"
    }
   ],
   "source": [
    "# Create a clean DataFrame by dropping the duplicate mouse by its ID.\n",
    "cleaned_duplicates = comb_mouse_df.drop_duplicates(subset=['Mouse ID', 'Timepoint'], keep='last')\n",
    "df_new = cleaned_duplicates.rename(columns= {'Tumor Volume (mm3)':'Tumor_volume'} )\n",
    "df_new\n"
   ]
  },
  {
   "cell_type": "code",
   "execution_count": 6,
   "metadata": {},
   "outputs": [
    {
     "data": {
      "text/plain": [
       "Mouse ID            1888\n",
       "Drug Regimen        1888\n",
       "Sex                 1888\n",
       "Age_months          1888\n",
       "Weight (g)          1888\n",
       "Timepoint           1888\n",
       "Tumor_volume        1888\n",
       "Metastatic Sites    1888\n",
       "dtype: int64"
      ]
     },
     "execution_count": 6,
     "metadata": {},
     "output_type": "execute_result"
    }
   ],
   "source": [
    "# Checking the number of mice in the clean DataFrame.\n",
    "df_new.count()"
   ]
  },
  {
   "cell_type": "markdown",
   "metadata": {},
   "source": [
    "## Summary Statistics"
   ]
  },
  {
   "cell_type": "code",
   "execution_count": 7,
   "metadata": {},
   "outputs": [
    {
     "data": {
      "text/html": [
       "<style  type=\"text/css\" >\n",
       "    #T_6f2f0690_1bcc_11eb_92ba_acde48001122 caption {\n",
       "          font-size: 20px;\n",
       "          color: black;\n",
       "    }</style><table id=\"T_6f2f0690_1bcc_11eb_92ba_acde48001122\" ><caption>Summary Statistics</caption><thead>    <tr>        <th class=\"blank level0\" ></th>        <th class=\"col_heading level0 col0\" >mean</th>        <th class=\"col_heading level0 col1\" >median</th>        <th class=\"col_heading level0 col2\" >var</th>        <th class=\"col_heading level0 col3\" >std</th>        <th class=\"col_heading level0 col4\" >sem</th>    </tr>    <tr>        <th class=\"index_name level0\" >Drug Regimen</th>        <th class=\"blank\" ></th>        <th class=\"blank\" ></th>        <th class=\"blank\" ></th>        <th class=\"blank\" ></th>        <th class=\"blank\" ></th>    </tr></thead><tbody>\n",
       "                <tr>\n",
       "                        <th id=\"T_6f2f0690_1bcc_11eb_92ba_acde48001122level0_row0\" class=\"row_heading level0 row0\" >Capomulin</th>\n",
       "                        <td id=\"T_6f2f0690_1bcc_11eb_92ba_acde48001122row0_col0\" class=\"data row0 col0\" >40.675741</td>\n",
       "                        <td id=\"T_6f2f0690_1bcc_11eb_92ba_acde48001122row0_col1\" class=\"data row0 col1\" >41.557809</td>\n",
       "                        <td id=\"T_6f2f0690_1bcc_11eb_92ba_acde48001122row0_col2\" class=\"data row0 col2\" >24.947764</td>\n",
       "                        <td id=\"T_6f2f0690_1bcc_11eb_92ba_acde48001122row0_col3\" class=\"data row0 col3\" >4.994774</td>\n",
       "                        <td id=\"T_6f2f0690_1bcc_11eb_92ba_acde48001122row0_col4\" class=\"data row0 col4\" >0.329346</td>\n",
       "            </tr>\n",
       "            <tr>\n",
       "                        <th id=\"T_6f2f0690_1bcc_11eb_92ba_acde48001122level0_row1\" class=\"row_heading level0 row1\" >Ceftamin</th>\n",
       "                        <td id=\"T_6f2f0690_1bcc_11eb_92ba_acde48001122row1_col0\" class=\"data row1 col0\" >52.591172</td>\n",
       "                        <td id=\"T_6f2f0690_1bcc_11eb_92ba_acde48001122row1_col1\" class=\"data row1 col1\" >51.776157</td>\n",
       "                        <td id=\"T_6f2f0690_1bcc_11eb_92ba_acde48001122row1_col2\" class=\"data row1 col2\" >39.290177</td>\n",
       "                        <td id=\"T_6f2f0690_1bcc_11eb_92ba_acde48001122row1_col3\" class=\"data row1 col3\" >6.268188</td>\n",
       "                        <td id=\"T_6f2f0690_1bcc_11eb_92ba_acde48001122row1_col4\" class=\"data row1 col4\" >0.469821</td>\n",
       "            </tr>\n",
       "            <tr>\n",
       "                        <th id=\"T_6f2f0690_1bcc_11eb_92ba_acde48001122level0_row2\" class=\"row_heading level0 row2\" >Infubinol</th>\n",
       "                        <td id=\"T_6f2f0690_1bcc_11eb_92ba_acde48001122row2_col0\" class=\"data row2 col0\" >52.884795</td>\n",
       "                        <td id=\"T_6f2f0690_1bcc_11eb_92ba_acde48001122row2_col1\" class=\"data row2 col1\" >51.820584</td>\n",
       "                        <td id=\"T_6f2f0690_1bcc_11eb_92ba_acde48001122row2_col2\" class=\"data row2 col2\" >43.128684</td>\n",
       "                        <td id=\"T_6f2f0690_1bcc_11eb_92ba_acde48001122row2_col3\" class=\"data row2 col3\" >6.567243</td>\n",
       "                        <td id=\"T_6f2f0690_1bcc_11eb_92ba_acde48001122row2_col4\" class=\"data row2 col4\" >0.492236</td>\n",
       "            </tr>\n",
       "            <tr>\n",
       "                        <th id=\"T_6f2f0690_1bcc_11eb_92ba_acde48001122level0_row3\" class=\"row_heading level0 row3\" >Ketapril</th>\n",
       "                        <td id=\"T_6f2f0690_1bcc_11eb_92ba_acde48001122row3_col0\" class=\"data row3 col0\" >55.235638</td>\n",
       "                        <td id=\"T_6f2f0690_1bcc_11eb_92ba_acde48001122row3_col1\" class=\"data row3 col1\" >53.698743</td>\n",
       "                        <td id=\"T_6f2f0690_1bcc_11eb_92ba_acde48001122row3_col2\" class=\"data row3 col2\" >68.553577</td>\n",
       "                        <td id=\"T_6f2f0690_1bcc_11eb_92ba_acde48001122row3_col3\" class=\"data row3 col3\" >8.279709</td>\n",
       "                        <td id=\"T_6f2f0690_1bcc_11eb_92ba_acde48001122row3_col4\" class=\"data row3 col4\" >0.603860</td>\n",
       "            </tr>\n",
       "            <tr>\n",
       "                        <th id=\"T_6f2f0690_1bcc_11eb_92ba_acde48001122level0_row4\" class=\"row_heading level0 row4\" >Naftisol</th>\n",
       "                        <td id=\"T_6f2f0690_1bcc_11eb_92ba_acde48001122row4_col0\" class=\"data row4 col0\" >54.331565</td>\n",
       "                        <td id=\"T_6f2f0690_1bcc_11eb_92ba_acde48001122row4_col1\" class=\"data row4 col1\" >52.509285</td>\n",
       "                        <td id=\"T_6f2f0690_1bcc_11eb_92ba_acde48001122row4_col2\" class=\"data row4 col2\" >66.173479</td>\n",
       "                        <td id=\"T_6f2f0690_1bcc_11eb_92ba_acde48001122row4_col3\" class=\"data row4 col3\" >8.134708</td>\n",
       "                        <td id=\"T_6f2f0690_1bcc_11eb_92ba_acde48001122row4_col4\" class=\"data row4 col4\" >0.596466</td>\n",
       "            </tr>\n",
       "            <tr>\n",
       "                        <th id=\"T_6f2f0690_1bcc_11eb_92ba_acde48001122level0_row5\" class=\"row_heading level0 row5\" >Placebo</th>\n",
       "                        <td id=\"T_6f2f0690_1bcc_11eb_92ba_acde48001122row5_col0\" class=\"data row5 col0\" >54.033581</td>\n",
       "                        <td id=\"T_6f2f0690_1bcc_11eb_92ba_acde48001122row5_col1\" class=\"data row5 col1\" >52.288934</td>\n",
       "                        <td id=\"T_6f2f0690_1bcc_11eb_92ba_acde48001122row5_col2\" class=\"data row5 col2\" >61.168083</td>\n",
       "                        <td id=\"T_6f2f0690_1bcc_11eb_92ba_acde48001122row5_col3\" class=\"data row5 col3\" >7.821003</td>\n",
       "                        <td id=\"T_6f2f0690_1bcc_11eb_92ba_acde48001122row5_col4\" class=\"data row5 col4\" >0.581331</td>\n",
       "            </tr>\n",
       "            <tr>\n",
       "                        <th id=\"T_6f2f0690_1bcc_11eb_92ba_acde48001122level0_row6\" class=\"row_heading level0 row6\" >Propriva</th>\n",
       "                        <td id=\"T_6f2f0690_1bcc_11eb_92ba_acde48001122row6_col0\" class=\"data row6 col0\" >52.382993</td>\n",
       "                        <td id=\"T_6f2f0690_1bcc_11eb_92ba_acde48001122row6_col1\" class=\"data row6 col1\" >50.783528</td>\n",
       "                        <td id=\"T_6f2f0690_1bcc_11eb_92ba_acde48001122row6_col2\" class=\"data row6 col2\" >43.220205</td>\n",
       "                        <td id=\"T_6f2f0690_1bcc_11eb_92ba_acde48001122row6_col3\" class=\"data row6 col3\" >6.574208</td>\n",
       "                        <td id=\"T_6f2f0690_1bcc_11eb_92ba_acde48001122row6_col4\" class=\"data row6 col4\" >0.526358</td>\n",
       "            </tr>\n",
       "            <tr>\n",
       "                        <th id=\"T_6f2f0690_1bcc_11eb_92ba_acde48001122level0_row7\" class=\"row_heading level0 row7\" >Ramicane</th>\n",
       "                        <td id=\"T_6f2f0690_1bcc_11eb_92ba_acde48001122row7_col0\" class=\"data row7 col0\" >40.216745</td>\n",
       "                        <td id=\"T_6f2f0690_1bcc_11eb_92ba_acde48001122row7_col1\" class=\"data row7 col1\" >40.673236</td>\n",
       "                        <td id=\"T_6f2f0690_1bcc_11eb_92ba_acde48001122row7_col2\" class=\"data row7 col2\" >23.486704</td>\n",
       "                        <td id=\"T_6f2f0690_1bcc_11eb_92ba_acde48001122row7_col3\" class=\"data row7 col3\" >4.846308</td>\n",
       "                        <td id=\"T_6f2f0690_1bcc_11eb_92ba_acde48001122row7_col4\" class=\"data row7 col4\" >0.320955</td>\n",
       "            </tr>\n",
       "            <tr>\n",
       "                        <th id=\"T_6f2f0690_1bcc_11eb_92ba_acde48001122level0_row8\" class=\"row_heading level0 row8\" >Stelasyn</th>\n",
       "                        <td id=\"T_6f2f0690_1bcc_11eb_92ba_acde48001122row8_col0\" class=\"data row8 col0\" >54.233149</td>\n",
       "                        <td id=\"T_6f2f0690_1bcc_11eb_92ba_acde48001122row8_col1\" class=\"data row8 col1\" >52.431737</td>\n",
       "                        <td id=\"T_6f2f0690_1bcc_11eb_92ba_acde48001122row8_col2\" class=\"data row8 col2\" >59.450562</td>\n",
       "                        <td id=\"T_6f2f0690_1bcc_11eb_92ba_acde48001122row8_col3\" class=\"data row8 col3\" >7.710419</td>\n",
       "                        <td id=\"T_6f2f0690_1bcc_11eb_92ba_acde48001122row8_col4\" class=\"data row8 col4\" >0.573111</td>\n",
       "            </tr>\n",
       "            <tr>\n",
       "                        <th id=\"T_6f2f0690_1bcc_11eb_92ba_acde48001122level0_row9\" class=\"row_heading level0 row9\" >Zoniferol</th>\n",
       "                        <td id=\"T_6f2f0690_1bcc_11eb_92ba_acde48001122row9_col0\" class=\"data row9 col0\" >53.236507</td>\n",
       "                        <td id=\"T_6f2f0690_1bcc_11eb_92ba_acde48001122row9_col1\" class=\"data row9 col1\" >51.818479</td>\n",
       "                        <td id=\"T_6f2f0690_1bcc_11eb_92ba_acde48001122row9_col2\" class=\"data row9 col2\" >48.533355</td>\n",
       "                        <td id=\"T_6f2f0690_1bcc_11eb_92ba_acde48001122row9_col3\" class=\"data row9 col3\" >6.966589</td>\n",
       "                        <td id=\"T_6f2f0690_1bcc_11eb_92ba_acde48001122row9_col4\" class=\"data row9 col4\" >0.516398</td>\n",
       "            </tr>\n",
       "    </tbody></table>"
      ],
      "text/plain": [
       "<pandas.io.formats.style.Styler at 0x7ff34c76eb20>"
      ]
     },
     "execution_count": 7,
     "metadata": {},
     "output_type": "execute_result"
    }
   ],
   "source": [
    "# Generating a summary statistics table for each regimen\n",
    "clean_duplicates = df_new.groupby(\"Drug Regimen\").Tumor_volume.agg(['mean','median','var','std','sem'])\n",
    "clean_duplicates\n",
    "Title = clean_duplicates.style.set_caption ('Summary Statistics')\n",
    "Title.set_table_styles([{\n",
    "                         'selector':'caption',\n",
    "                        'props': [('font-size', '20px'),                                 \n",
    "                                 ('color', 'black')]\n",
    "                        }])"
   ]
  },
  {
   "cell_type": "markdown",
   "metadata": {},
   "source": [
    "## Bar and Pie Charts"
   ]
  },
  {
   "cell_type": "code",
   "execution_count": 8,
   "metadata": {},
   "outputs": [
    {
     "data": {
      "text/plain": [
       "Text(0.5, 1.0, 'Mice tested on each drug regimen')"
      ]
     },
     "execution_count": 8,
     "metadata": {},
     "output_type": "execute_result"
    },
    {
     "data": {
      "image/png": "[encoded data removed]",
      "text/plain": [
       "<Figure size 432x288 with 1 Axes>"
      ]
     },
     "metadata": {
      "needs_background": "light"
     },
     "output_type": "display_data"
    }
   ],
   "source": [
    "# Generating a bar plot showing the total number of unique mice tested on each drug regimen using pandas.\n",
    "counts = df_new['Drug Regimen'].value_counts()\n",
    "counts.plot(kind=\"bar\")\n",
    "plt.xlabel(\"Drug Regimen\", fontsize=14)\n",
    "plt.ylabel(\"Number of Mice\",fontsize=14)\n",
    "plt.title('Mice tested on each drug regimen', fontsize=17,bbox={'facecolor':'0.9', 'pad':2}, va='bottom')\n",
    "\n"
   ]
  },
  {
   "cell_type": "code",
   "execution_count": 9,
   "metadata": {},
   "outputs": [
    {
     "data": {
      "text/plain": [
       "<BarContainer object of 10 artists>"
      ]
     },
     "execution_count": 9,
     "metadata": {},
     "output_type": "execute_result"
    },
    {
     "data": {
      "image/png": "[encoded data removed]",
      "text/plain": [
       "<Figure size 432x288 with 1 Axes>"
      ]
     },
     "metadata": {
      "needs_background": "light"
     },
     "output_type": "display_data"
    }
   ],
   "source": [
    "# Generating a bar plot showing the total number of unique mice tested on each drug regimen using pyplot.\n",
    "counts = df_new['Drug Regimen'].value_counts()\n",
    "y_axis = counts.values \n",
    "x_axis = counts.index.values\n",
    "plt.xticks(rotation=45)\n",
    "plt.xlabel(\"Drug Regimen\", fontsize=14)\n",
    "plt.ylabel(\"Number of Mice\",fontsize=14)\n",
    "plt.title('Mice tested on each drug regimen', fontsize=17,bbox={'facecolor':'0.9', 'pad':2}, va='bottom')\n",
    "\n",
    "plt.bar(x_axis, y_axis)\n"
   ]
  },
  {
   "cell_type": "code",
   "execution_count": 10,
   "metadata": {},
   "outputs": [
    {
     "data": {
      "text/plain": [
       "<AxesSubplot:title={'left':'Female vs Male'}, ylabel='Sex'>"
      ]
     },
     "execution_count": 10,
     "metadata": {},
     "output_type": "execute_result"
    },
    {
     "data": {
      "image/png": "[encoded data removed]",
      "text/plain": [
       "<Figure size 432x288 with 1 Axes>"
      ]
     },
     "metadata": {},
     "output_type": "display_data"
    }
   ],
   "source": [
    "# Generating a pie plot showing the distribution of female versus male mice using pandas\n",
    "counts = df_new['Sex'].value_counts()\n",
    "colors = ('green','lightgreen')\n",
    "explode = (0.1, 0)\n",
    "plt.axis('equal')\n",
    "\n",
    "plt.title('Female vs Male', fontsize=17,bbox={'facecolor':'0.9', 'pad':5}, loc='left')\n",
    "counts.plot(kind='pie', autopct='%1.1f%%', fontsize=14, colors=colors, shadow=True, explode=explode, startangle=150)\n"
   ]
  },
  {
   "cell_type": "code",
   "execution_count": 11,
   "metadata": {},
   "outputs": [
    {
     "data": {
      "image/png": "[encoded data removed]",
      "text/plain": [
       "<Figure size 432x288 with 1 Axes>"
      ]
     },
     "metadata": {},
     "output_type": "display_data"
    }
   ],
   "source": [
    "# Generating a pie plot showing the distribution of female versus male mice using pyplot\n",
    "counts = df_new['Sex'].value_counts()\n",
    "colors = ('blue','lightblue')\n",
    "explode = (0.1, 0)\n",
    "plt.axis('equal')\n",
    "plt.title('Female vs Male', fontsize=17,bbox={'facecolor':'0.9', 'pad':5}, loc='left')\n",
    "plt.pie(counts.values, labels=counts.index.values, autopct='%1.1f%%',textprops={'fontsize' : 14}, colors=colors, explode=explode,shadow=True, startangle=150)\n",
    "\n",
    "plt.show()"
   ]
  },
  {
   "cell_type": "markdown",
   "metadata": {},
   "source": [
    "## Quartiles, Outliers and Boxplots"
   ]
  },
  {
   "cell_type": "code",
   "execution_count": 12,
   "metadata": {},
   "outputs": [
    {
     "data": {
      "text/html": [
       "<div>\n",
       "<style scoped>\n",
       "    .dataframe tbody tr th:only-of-type {\n",
       "        vertical-align: middle;\n",
       "    }\n",
       "\n",
       "    .dataframe tbody tr th {\n",
       "        vertical-align: top;\n",
       "    }\n",
       "\n",
       "    .dataframe thead th {\n",
       "        text-align: right;\n",
       "    }\n",
       "</style>\n",
       "<table border=\"1\" class=\"dataframe\">\n",
       "  <thead>\n",
       "    <tr style=\"text-align: right;\">\n",
       "      <th></th>\n",
       "      <th>Mouse ID</th>\n",
       "      <th>Timepoint</th>\n",
       "      <th>Drug Regimen</th>\n",
       "      <th>Sex</th>\n",
       "      <th>Age_months</th>\n",
       "      <th>Weight (g)</th>\n",
       "      <th>Tumor_volume</th>\n",
       "      <th>Metastatic Sites</th>\n",
       "    </tr>\n",
       "  </thead>\n",
       "  <tbody>\n",
       "    <tr>\n",
       "      <th>0</th>\n",
       "      <td>a203</td>\n",
       "      <td>45</td>\n",
       "      <td>Infubinol</td>\n",
       "      <td>Female</td>\n",
       "      <td>20</td>\n",
       "      <td>23</td>\n",
       "      <td>67.973419</td>\n",
       "      <td>2</td>\n",
       "    </tr>\n",
       "    <tr>\n",
       "      <th>1</th>\n",
       "      <td>a251</td>\n",
       "      <td>45</td>\n",
       "      <td>Infubinol</td>\n",
       "      <td>Female</td>\n",
       "      <td>21</td>\n",
       "      <td>25</td>\n",
       "      <td>65.525743</td>\n",
       "      <td>1</td>\n",
       "    </tr>\n",
       "    <tr>\n",
       "      <th>2</th>\n",
       "      <td>a262</td>\n",
       "      <td>45</td>\n",
       "      <td>Placebo</td>\n",
       "      <td>Female</td>\n",
       "      <td>17</td>\n",
       "      <td>29</td>\n",
       "      <td>70.717621</td>\n",
       "      <td>4</td>\n",
       "    </tr>\n",
       "    <tr>\n",
       "      <th>3</th>\n",
       "      <td>a275</td>\n",
       "      <td>45</td>\n",
       "      <td>Ceftamin</td>\n",
       "      <td>Female</td>\n",
       "      <td>20</td>\n",
       "      <td>28</td>\n",
       "      <td>62.999356</td>\n",
       "      <td>3</td>\n",
       "    </tr>\n",
       "    <tr>\n",
       "      <th>4</th>\n",
       "      <td>a366</td>\n",
       "      <td>30</td>\n",
       "      <td>Stelasyn</td>\n",
       "      <td>Female</td>\n",
       "      <td>16</td>\n",
       "      <td>29</td>\n",
       "      <td>63.440686</td>\n",
       "      <td>1</td>\n",
       "    </tr>\n",
       "    <tr>\n",
       "      <th>...</th>\n",
       "      <td>...</td>\n",
       "      <td>...</td>\n",
       "      <td>...</td>\n",
       "      <td>...</td>\n",
       "      <td>...</td>\n",
       "      <td>...</td>\n",
       "      <td>...</td>\n",
       "      <td>...</td>\n",
       "    </tr>\n",
       "    <tr>\n",
       "      <th>244</th>\n",
       "      <td>z435</td>\n",
       "      <td>10</td>\n",
       "      <td>Propriva</td>\n",
       "      <td>Female</td>\n",
       "      <td>12</td>\n",
       "      <td>26</td>\n",
       "      <td>48.710661</td>\n",
       "      <td>0</td>\n",
       "    </tr>\n",
       "    <tr>\n",
       "      <th>245</th>\n",
       "      <td>z578</td>\n",
       "      <td>45</td>\n",
       "      <td>Ramicane</td>\n",
       "      <td>Male</td>\n",
       "      <td>11</td>\n",
       "      <td>16</td>\n",
       "      <td>30.638696</td>\n",
       "      <td>0</td>\n",
       "    </tr>\n",
       "    <tr>\n",
       "      <th>246</th>\n",
       "      <td>z581</td>\n",
       "      <td>45</td>\n",
       "      <td>Infubinol</td>\n",
       "      <td>Female</td>\n",
       "      <td>24</td>\n",
       "      <td>25</td>\n",
       "      <td>62.754451</td>\n",
       "      <td>3</td>\n",
       "    </tr>\n",
       "    <tr>\n",
       "      <th>247</th>\n",
       "      <td>z795</td>\n",
       "      <td>45</td>\n",
       "      <td>Naftisol</td>\n",
       "      <td>Female</td>\n",
       "      <td>13</td>\n",
       "      <td>29</td>\n",
       "      <td>65.741070</td>\n",
       "      <td>3</td>\n",
       "    </tr>\n",
       "    <tr>\n",
       "      <th>248</th>\n",
       "      <td>z969</td>\n",
       "      <td>45</td>\n",
       "      <td>Naftisol</td>\n",
       "      <td>Male</td>\n",
       "      <td>9</td>\n",
       "      <td>30</td>\n",
       "      <td>73.867845</td>\n",
       "      <td>4</td>\n",
       "    </tr>\n",
       "  </tbody>\n",
       "</table>\n",
       "<p>249 rows × 8 columns</p>\n",
       "</div>"
      ],
      "text/plain": [
       "    Mouse ID  Timepoint Drug Regimen     Sex  Age_months  Weight (g)  \\\n",
       "0       a203         45    Infubinol  Female          20          23   \n",
       "1       a251         45    Infubinol  Female          21          25   \n",
       "2       a262         45      Placebo  Female          17          29   \n",
       "3       a275         45     Ceftamin  Female          20          28   \n",
       "4       a366         30     Stelasyn  Female          16          29   \n",
       "..       ...        ...          ...     ...         ...         ...   \n",
       "244     z435         10     Propriva  Female          12          26   \n",
       "245     z578         45     Ramicane    Male          11          16   \n",
       "246     z581         45    Infubinol  Female          24          25   \n",
       "247     z795         45     Naftisol  Female          13          29   \n",
       "248     z969         45     Naftisol    Male           9          30   \n",
       "\n",
       "     Tumor_volume  Metastatic Sites  \n",
       "0       67.973419                 2  \n",
       "1       65.525743                 1  \n",
       "2       70.717621                 4  \n",
       "3       62.999356                 3  \n",
       "4       63.440686                 1  \n",
       "..            ...               ...  \n",
       "244     48.710661                 0  \n",
       "245     30.638696                 0  \n",
       "246     62.754451                 3  \n",
       "247     65.741070                 3  \n",
       "248     73.867845                 4  \n",
       "\n",
       "[249 rows x 8 columns]"
      ]
     },
     "execution_count": 12,
     "metadata": {},
     "output_type": "execute_result"
    }
   ],
   "source": [
    "# Calculating the final tumor volume of each mouse across four of the treatment regimens:  \n",
    "# Capomulin, Ramicane, Infubinol, and Ceftamin\n",
    "\n",
    "# Merging this group df with the original dataframe to get the tumor volume at the last timepoint\n",
    "grouping = df_new.groupby(['Mouse ID']).Timepoint.agg('max')\n",
    "grouped_new_df = pd.DataFrame(grouping)\n",
    "grouped_new_df\n",
    "\n",
    "grouped_new_df = grouped_new_df.reset_index()\n",
    "\n",
    "comb_tumor_time = grouped_new_df.merge(df_new, on=['Mouse ID', 'Timepoint'], how='left')\n",
    "comb_tumor_time"
   ]
  },
  {
   "cell_type": "code",
   "execution_count": 13,
   "metadata": {},
   "outputs": [
    {
     "name": "stdout",
     "output_type": "stream",
     "text": [
      "The lower quartile of Tumor Volume is: 48.72207785\n",
      "The upper quartile of Tumor Volume is: 64.29983003\n",
      "The interquartile range of Tumor Volume is: 15.577752179999997\n",
      "The the median of Tumor Volume is: 59.85195552 \n",
      "Values below 25.355449580000002 could be outliers.\n",
      "Values above 87.66645829999999 could be outliers.\n"
     ]
    },
    {
     "data": {
      "text/plain": [
       "Series([], Name: Tumor_volume, dtype: float64)"
      ]
     },
     "execution_count": 13,
     "metadata": {},
     "output_type": "execute_result"
    }
   ],
   "source": [
    "# list for for loop (and later for plot labels)\n",
    "treatments_list = ['Capomulin', 'Ramicane', 'Infubinol', 'Ceftamin']\n",
    "\n",
    "#Creating empty list to fill with tumor vol data (for plotting)\n",
    "tumor_list = []\n",
    "\n",
    "#Calculating the IQR and quantitatively determine if there are any potential outliers.\n",
    "\n",
    "for treatment in treatments_list:\n",
    "    drug_volume = comb_tumor_time.loc[comb_tumor_time['Drug Regimen'] == treatment, 'Tumor_volume'] \n",
    "    tumor_list.append(drug_volume)\n",
    "\n",
    "# Determining outliers using upper and lower bounds\n",
    "    quartiles = drug_volume.quantile([.25,.5,.75])\n",
    "    lowerq = quartiles[0.25]\n",
    "    upperq = quartiles[0.75]\n",
    "    iqr = upperq-lowerq\n",
    "\n",
    "print(f\"The lower quartile of Tumor Volume is: {lowerq}\")\n",
    "print(f\"The upper quartile of Tumor Volume is: {upperq}\")\n",
    "print(f\"The interquartile range of Tumor Volume is: {iqr}\")\n",
    "print(f\"The the median of Tumor Volume is: {quartiles[0.5]} \")\n",
    "\n",
    "lower_bound = lowerq - (1.5*iqr)\n",
    "upper_bound = upperq + (1.5*iqr)\n",
    "print(f\"Values below {lower_bound} could be outliers.\")\n",
    "print(f\"Values above {upper_bound} could be outliers.\")\n",
    "\n",
    "outlier_Tumor_Volume = drug_volume.loc[(drug_volume< lower_bound) | (drug_volume > upper_bound)]\n",
    "outlier_Tumor_Volume"
   ]
  },
  {
   "cell_type": "code",
   "execution_count": 14,
   "metadata": {},
   "outputs": [
    {
     "data": {
      "image/png": "[encoded data removed]",
      "text/plain": [
       "<Figure size 432x288 with 1 Axes>"
      ]
     },
     "metadata": {
      "needs_background": "light"
     },
     "output_type": "display_data"
    }
   ],
   "source": [
    "# Generating a box plot of the final tumor volume of each mouse across four regimens\n",
    "fig1, ax1  = plt.subplots()\n",
    "bp = ax1.boxplot(tumor_list)\n",
    "\n",
    "for box in bp['boxes']:\n",
    "    # change outline color\n",
    "    box.set( color='#7570b3', linewidth=2)\n",
    "for whisker in bp['whiskers']:\n",
    "    whisker.set(color='#7570b3', linewidth=2)\n",
    "for cap in bp['caps']:\n",
    "    cap.set(color='#7570b3', linewidth=2)\n",
    "for median in bp['medians']:\n",
    "    median.set(color='k', linewidth=2)\n",
    "#highlighting outliers\n",
    "for flier in bp['fliers']:\n",
    "    flier.set(marker='o', markerfacecolor='r', markersize=12,\n",
    "                  linestyle='none', markeredgecolor='g')\n",
    "\n",
    "\n",
    "ax1.set_xticklabels(treatments_list, fontsize=12)   \n",
    "plt.ylabel('Final Tumor', fontsize=14)\n",
    "plt.xlabel('Drug Regimen', fontsize=14)\n",
    "plt.title('Final tumor volume of each mouse', fontsize=17,bbox={'facecolor':'0.9', 'pad':3}, va='bottom')\n",
    "\n",
    "plt.show()"
   ]
  },
  {
   "cell_type": "markdown",
   "metadata": {},
   "source": [
    "## Line and Scatter Plots"
   ]
  },
  {
   "cell_type": "code",
   "execution_count": 15,
   "metadata": {},
   "outputs": [
    {
     "data": {
      "text/plain": [
       "[<matplotlib.lines.Line2D at 0x7ff350e72880>]"
      ]
     },
     "execution_count": 15,
     "metadata": {},
     "output_type": "execute_result"
    },
    {
     "data": {
      "image/png": "[encoded data removed]",
      "text/plain": [
       "<Figure size 432x288 with 1 Axes>"
      ]
     },
     "metadata": {
      "needs_background": "light"
     },
     "output_type": "display_data"
    }
   ],
   "source": [
    "# Generating a line plot of tumor volume vs. time point for a mouse treated with Capomulin\n",
    "Capomulin_df = df_new[df_new['Drug Regimen'] == 'Capomulin']\n",
    "Capomulin_df \n",
    "\n",
    "capo_mouse = Capomulin_df.loc[Capomulin_df['Mouse ID'] == 'l509']\n",
    "capo_mouse\n",
    "plt.title('Tumor volume vs Timepoint | Mouse l509',fontsize=17,bbox={'facecolor':'0.9', 'pad':3}, va='bottom')\n",
    "plt.xlabel(\"Timepoint\", fontsize=14)\n",
    "plt.ylabel(\"Tumor Volume\",fontsize=14)\n",
    "plt.grid(color='b', linestyle='-')\n",
    "plt.plot(capo_mouse['Timepoint'], capo_mouse['Tumor_volume'])\n",
    "\n"
   ]
  },
  {
   "cell_type": "code",
   "execution_count": 16,
   "metadata": {},
   "outputs": [
    {
     "data": {
      "text/plain": [
       "<matplotlib.collections.PathCollection at 0x7ff3508729d0>"
      ]
     },
     "execution_count": 16,
     "metadata": {},
     "output_type": "execute_result"
    },
    {
     "data": {
      "image/png": "[encoded data removed]",
      "text/plain": [
       "<Figure size 432x288 with 1 Axes>"
      ]
     },
     "metadata": {
      "needs_background": "light"
     },
     "output_type": "display_data"
    }
   ],
   "source": [
    "# Generating a scatter plot of average tumor volume vs. mouse weight for the Capomulin regimen\n",
    "Capomulin_df = df_new[df_new['Drug Regimen'] == 'Capomulin']\n",
    "Capomulin_df1 = Capomulin_df.groupby(['Mouse ID','Weight (g)']).Tumor_volume.agg('mean')\n",
    "Capomulin_df1 = Capomulin_df1.reset_index()\n",
    "Capomulin_df1                     \n",
    "plt.xlabel('Weigh (g)', fontsize=13)\n",
    "plt.ylabel('Tumor Volume',fontsize=13)\n",
    "plt.title('Average tumor volume vs. mouse weight', fontsize=17,bbox={'facecolor':'0.9', 'pad':3}, va='bottom')    \n",
    "plt.scatter(Capomulin_df1['Weight (g)'], Capomulin_df1['Tumor_volume'])\n"
   ]
  },
  {
   "cell_type": "markdown",
   "metadata": {},
   "source": [
    "## Correlation and Regression"
   ]
  },
  {
   "cell_type": "code",
   "execution_count": 17,
   "metadata": {},
   "outputs": [
    {
     "data": {
      "text/plain": [
       "'Correlation coefficient is 0.84.'"
      ]
     },
     "execution_count": 17,
     "metadata": {},
     "output_type": "execute_result"
    }
   ],
   "source": [
    "# Calculating the correlation coefficient and linear regression model \n",
    "# for mouse weight and average tumor volume for the Capomulin regimen\n",
    "correlation = st.pearsonr(Capomulin_df1['Weight (g)'], Capomulin_df1['Tumor_volume'])\n",
    "rounded = (f\"Correlation coefficient is {round(correlation[0],2)}.\")\n",
    "rounded"
   ]
  },
  {
   "cell_type": "code",
   "execution_count": 18,
   "metadata": {},
   "outputs": [
    {
     "data": {
      "image/png": "[encoded data removed]",
      "text/plain": [
       "<Figure size 432x288 with 1 Axes>"
      ]
     },
     "metadata": {
      "needs_background": "light"
     },
     "output_type": "display_data"
    }
   ],
   "source": [
    "slope, intercept, rvalue, pvalue, stderr = linregress (Capomulin_df1['Weight (g)'], Capomulin_df1['Tumor_volume'])\n",
    "x_values = Capomulin_df1['Weight (g)']\n",
    "regress_values = slope * x_values + intercept\n",
    "\n",
    "eq = \"y = \" + str(round(slope,2))+ \"x + \" + str (round(intercept,2))\n",
    "plt.scatter(x_values, Capomulin_df1['Tumor_volume'])\n",
    "plt.plot(x_values, regress_values, color='red')\n",
    "plt.annotate(eq,(21,35),color='red', fontsize=14)\n",
    "plt.xlabel('Weigh (g)', fontsize=13)\n",
    "plt.ylabel('Tumor Volume',fontsize=13)\n",
    "plt.title('Average tumor volume vs. mouse weight', fontsize=17,bbox={'facecolor':'0.9', 'pad':3}, va='bottom')\n",
    "plt.show()"
   ]
  },
  {
   "cell_type": "code",
   "execution_count": null,
   "metadata": {},
   "outputs": [],
   "source": []
  }
 ],
 "metadata": {
  "anaconda-cloud": {},
  "kernelspec": {
   "display_name": "Python 3",
   "language": "python",
   "name": "python3"
  },
  "language_info": {
   "codemirror_mode": {
    "name": "ipython",
    "version": 3
   },
   "file_extension": ".py",
   "mimetype": "text/x-python",
   "name": "python",
   "nbconvert_exporter": "python",
   "pygments_lexer": "ipython3",
   "version": "3.8.5"
  }
 },
 "nbformat": 4,
 "nbformat_minor": 4
}
